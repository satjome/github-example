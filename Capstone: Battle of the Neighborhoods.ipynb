{
    "cells": [
        {
            "cell_type": "markdown",
            "metadata": {},
            "source": "# Capstone Project: Battle of the Neighborhoods\n## Analysis by Joshua Satre"
        },
        {
            "cell_type": "markdown",
            "metadata": {},
            "source": "# *Table of Contents Placeholder"
        },
        {
            "cell_type": "markdown",
            "metadata": {},
            "source": "## 1) Introduction \n### Background:\nIn the wake of the post-lockdown phase of the Covid-19 pandemic, the restaurant industry requires significant changes to it's core business model that will enable better sanitation and implementation of recommended social distancing for employees and customers. New York City was the the hardest hit by the pandemic and as the city with the highest population density is an ideal test case for technological solutions that will aid the achievement of implementing sanitation and social distancing guidelines while still achieving the goal of quality product and high-volume production of food for takeout, delivery and commercial clients.  The help the restaurant industry needs may come in the form of robotics (made by companies such as Picnic (https://www.hellopicnic.com/press), which can preserve the input quality of ingredients while automating the busywork and reducing the number of physical employees in the kitchen space to enable social distancing and greater sanitation.\n\n\n### Client and Business Case/Problem:\nThis report was performed for a vendor in the food robotics industry in April 2020. The goal of this report is to identify neighborhoods ideal for placing a sales office for the client. _However, more generally, the analysis would be useful for any entrepreneurs in the food-service equipment industry seeking to locate their office in an ideal space._  As New York City is famous for it's pizza, it is an ideal test market for the rollout of the pizza vending robot our client is making. Specifically: the client has asked *\"Where should we locate our office to maximize density of potential sales venue and minimize our costs?\"* \n\n#### Deliverable:\nSpecifically, our client wants *a list of target neighborhoods with the highest density of pizza vendors*, so as to have more potential sales targets. Our client is a startup, so ideally, we can also integrate average cost per square foot by neighborhood to find a lower price point for office space into our analysis to save on costs. \n\nWe can use our data analysis abilities and deploy a range of techniques to generate a list of ideal neighborhoods and then outline the advantages of each neighborhood (and flag potential downsides) which will enable our client to make an informed decision about the placement of their office.  "
        },
        {
            "cell_type": "code",
            "execution_count": null,
            "metadata": {},
            "outputs": [],
            "source": ""
        },
        {
            "cell_type": "markdown",
            "metadata": {},
            "source": "## 2) Data\nOur business case and client question should shape the data we are going to use. In this case, pertinent factors include:\n A. The number of client-relevant restaurants in each neighborhood  (i.e. Italian and Pizza restaurants)\n B. The cost of real-estate (ideally we would use commercial real estate data, however, as if this proves expensive, a publicly available dataset of average residential prices from Zillow will be used)\n C. The relative population density of each neighborhood (if available--drawn from US Census data or NYC's city dataset)\n \nSeveral data sources will be used in this analysis. For neighborhood data, NYU's Spatial Data Repository repository contains an excellent open-source map of New York's neighborhoods with geospatial point data (https://geo.nyu.edu/catalog/nyu_2451_34572) which we will use in this analysis.\n\nFor locations within each neighborhood, We will be using the Foursquare API to find data on concentrations of pizza restaurants (and Italian restaurants), as well as other venues and neighborhood characteristics. Foursquare is a technology company that offers software that enables users to upload real-time location and venue data. As a result, we can find up-to-date lists of venues and target specific types of venues using the API.\n\nFor housing data, we will assume that commercial and residential housing is generally influenced by the same market forces and thus the two, while somewhat distinct. This is because in a market as densely populated with New York, exclusively residential or commercial zoning by neighborhood that might be present in suburbs is not present, or is extremely uncommon.\nThe dataset can be found at Zillow's data hub (https://www.zillow.com/research/data/)\n\nFinally, In terms of python libraries, there are several used for data gathering in this project:\nWe will be using the geopy library to get the latitude and longitude values of New York City.\nThe Folium library will be used for data visualization. Several other packages will be used for our analysis, for more information, see the main text in the Methodology section.\n\nUtilizing data analysis and analytical techniques discussed in the labs from Coursera's IBM Data Science Professional Certificate, the data will be analyzed using the methods outlined below.\n"
        },
        {
            "cell_type": "code",
            "execution_count": null,
            "metadata": {},
            "outputs": [],
            "source": ""
        },
        {
            "cell_type": "markdown",
            "metadata": {},
            "source": "## 3) Methodology "
        },
        {
            "cell_type": "code",
            "execution_count": null,
            "metadata": {},
            "outputs": [],
            "source": ""
        },
        {
            "cell_type": "markdown",
            "metadata": {},
            "source": "## 4) Analysis"
        },
        {
            "cell_type": "code",
            "execution_count": null,
            "metadata": {},
            "outputs": [],
            "source": ""
        },
        {
            "cell_type": "markdown",
            "metadata": {},
            "source": "## 5) Results & Discussion"
        },
        {
            "cell_type": "code",
            "execution_count": null,
            "metadata": {},
            "outputs": [],
            "source": ""
        },
        {
            "cell_type": "markdown",
            "metadata": {},
            "source": "## 6) Conclusion"
        },
        {
            "cell_type": "code",
            "execution_count": null,
            "metadata": {},
            "outputs": [],
            "source": ""
        }
    ],
    "metadata": {
        "kernelspec": {
            "display_name": "Python 3.6",
            "language": "python",
            "name": "python3"
        },
        "language_info": {
            "codemirror_mode": {
                "name": "ipython",
                "version": 3
            },
            "file_extension": ".py",
            "mimetype": "text/x-python",
            "name": "python",
            "nbconvert_exporter": "python",
            "pygments_lexer": "ipython3",
            "version": "3.6.9"
        }
    },
    "nbformat": 4,
    "nbformat_minor": 1
}